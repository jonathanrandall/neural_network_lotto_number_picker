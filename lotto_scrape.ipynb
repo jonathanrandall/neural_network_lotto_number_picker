{
 "cells": [
  {
   "cell_type": "code",
   "execution_count": 1,
   "id": "c5f47ba7-f8ad-44ac-95fa-e03cc0b8c024",
   "metadata": {},
   "outputs": [],
   "source": [
    "import requests\n",
    "from bs4 import BeautifulSoup\n",
    "from datetime import datetime, timedelta\n",
    "import csv\n"
   ]
  },
  {
   "cell_type": "code",
   "execution_count": 2,
   "id": "97b96aff-35f7-45c1-a8ec-2f7c2bbb5e5d",
   "metadata": {},
   "outputs": [],
   "source": [
    "headers = {\n",
    "    'User-Agent': 'Mozilla/5.0 (Windows NT 10.0; Win64; x64) AppleWebKit/537.36 (KHTML, like Gecko) Chrome/58.0.3029.110 Safari/537.36'\n",
    "}\n",
    "\n",
    "url ='https://en.lottolyzer.com/history/australia/tattslotto/page/1/per-page/50/summary-view/' #saturday\n",
    "url ='https://en.lottolyzer.com/history/australia/powerball/page/1/per-page/50/summary-view/' #power ball\n",
    "url ='https://en.lottolyzer.com/history/australia/monday-%26-wednesday-lotto/page/1/per-page/50/summary-view/' #monday wedneday"
   ]
  },
  {
   "cell_type": "code",
   "execution_count": 3,
   "id": "3866c8c2-81bd-4f44-adbb-5d63b1aeb0f0",
   "metadata": {},
   "outputs": [
    {
     "name": "stdout",
     "output_type": "stream",
     "text": [
      "['https://en.lottolyzer.com/history/australia/monday-%26-wednesday-lotto/page/1/per-page/50/summary-view/', 'https://en.lottolyzer.com/history/australia/monday-%26-wednesday-lotto/page/2/per-page/50/summary-view/', 'https://en.lottolyzer.com/history/australia/monday-%26-wednesday-lotto/page/3/per-page/50/summary-view/', 'https://en.lottolyzer.com/history/australia/monday-%26-wednesday-lotto/page/4/per-page/50/summary-view/', 'https://en.lottolyzer.com/history/australia/monday-%26-wednesday-lotto/page/5/per-page/50/summary-view/', 'https://en.lottolyzer.com/history/australia/monday-%26-wednesday-lotto/page/6/per-page/50/summary-view/', 'https://en.lottolyzer.com/history/australia/monday-%26-wednesday-lotto/page/7/per-page/50/summary-view/', 'https://en.lottolyzer.com/history/australia/monday-%26-wednesday-lotto/page/8/per-page/50/summary-view/', 'https://en.lottolyzer.com/history/australia/monday-%26-wednesday-lotto/page/9/per-page/50/summary-view/', 'https://en.lottolyzer.com/history/australia/monday-%26-wednesday-lotto/page/10/per-page/50/summary-view/', 'https://en.lottolyzer.com/history/australia/monday-%26-wednesday-lotto/page/11/per-page/50/summary-view/', 'https://en.lottolyzer.com/history/australia/monday-%26-wednesday-lotto/page/12/per-page/50/summary-view/', 'https://en.lottolyzer.com/history/australia/monday-%26-wednesday-lotto/page/13/per-page/50/summary-view/', 'https://en.lottolyzer.com/history/australia/monday-%26-wednesday-lotto/page/14/per-page/50/summary-view/', 'https://en.lottolyzer.com/history/australia/monday-%26-wednesday-lotto/page/15/per-page/50/summary-view/', 'https://en.lottolyzer.com/history/australia/monday-%26-wednesday-lotto/page/16/per-page/50/summary-view/', 'https://en.lottolyzer.com/history/australia/monday-%26-wednesday-lotto/page/17/per-page/50/summary-view/', 'https://en.lottolyzer.com/history/australia/monday-%26-wednesday-lotto/page/18/per-page/50/summary-view/', 'https://en.lottolyzer.com/history/australia/monday-%26-wednesday-lotto/page/19/per-page/50/summary-view/', 'https://en.lottolyzer.com/history/australia/monday-%26-wednesday-lotto/page/20/per-page/50/summary-view/', 'https://en.lottolyzer.com/history/australia/monday-%26-wednesday-lotto/page/21/per-page/50/summary-view/', 'https://en.lottolyzer.com/history/australia/monday-%26-wednesday-lotto/page/22/per-page/50/summary-view/', 'https://en.lottolyzer.com/history/australia/monday-%26-wednesday-lotto/page/23/per-page/50/summary-view/', 'https://en.lottolyzer.com/history/australia/monday-%26-wednesday-lotto/page/24/per-page/50/summary-view/', 'https://en.lottolyzer.com/history/australia/monday-%26-wednesday-lotto/page/25/per-page/50/summary-view/', 'https://en.lottolyzer.com/history/australia/monday-%26-wednesday-lotto/page/26/per-page/50/summary-view/', 'https://en.lottolyzer.com/history/australia/monday-%26-wednesday-lotto/page/27/per-page/50/summary-view/', 'https://en.lottolyzer.com/history/australia/monday-%26-wednesday-lotto/page/28/per-page/50/summary-view/', 'https://en.lottolyzer.com/history/australia/monday-%26-wednesday-lotto/page/29/per-page/50/summary-view/', 'https://en.lottolyzer.com/history/australia/monday-%26-wednesday-lotto/page/30/per-page/50/summary-view/', 'https://en.lottolyzer.com/history/australia/monday-%26-wednesday-lotto/page/31/per-page/50/summary-view/', 'https://en.lottolyzer.com/history/australia/monday-%26-wednesday-lotto/page/32/per-page/50/summary-view/']\n"
     ]
    }
   ],
   "source": [
    "base_string = 'https://en.lottolyzer.com/history/australia/tattslotto/page/'\n",
    "base_string = 'https://en.lottolyzer.com/history/australia/powerball/page/'\n",
    "base_string = 'https://en.lottolyzer.com/history/australia/monday-%26-wednesday-lotto/page/'\n",
    "string_list = []\n",
    "\n",
    "for i in range(1, 33):\n",
    "    new_string = f'{base_string}{i}/per-page/50/summary-view/'  # Construct the new string\n",
    "    string_list.append(new_string)  # Add the new string to the list\n",
    "\n",
    "print(string_list)"
   ]
  },
  {
   "cell_type": "code",
   "execution_count": 4,
   "id": "8a64c7e9-6242-4c0a-b729-aa8c68d50bff",
   "metadata": {},
   "outputs": [],
   "source": [
    "with open(\"monday_wed_lotto.txt\", mode='a', newline='') as file:\n",
    "    writer = csv.writer(file)\n",
    "    for url in string_list:\n",
    "        response = requests.get(url, headers=headers)\n",
    "        if response.status_code == 200:\n",
    "            # Access the HTML content of the response\n",
    "            html_code = response.text\n",
    "\n",
    "            # Now you can use BeautifulSoup or other parsing libraries to work with the HTML\n",
    "        else:\n",
    "            print(f\"Request failed with status code: {response.status_code}\")\n",
    "        soup = BeautifulSoup(html_code, 'html.parser')\n",
    "\n",
    "        # Find all rows containing lotto results\n",
    "        rows = soup.select('#summary-table tbody tr')\n",
    "\n",
    "        # Loop through each row and extract the relevant data\n",
    "    \n",
    "        for row in rows:\n",
    "            draw_number = row.find('td').text\n",
    "            date = row.find('td', class_='sum-p1').text\n",
    "            winning_numbers = row.find('td', class_='sum-p1').find_next_sibling().text\n",
    "            supplementary_numbers = row.find('td', class_='sum-p1').find_next_sibling().find_next_sibling().text\n",
    "            numbers_list = [int(num_str) for num_str in (winning_numbers).split(',')]\n",
    "            numbers_list2 = [int(num_str) for num_str in (supplementary_numbers).split(',')]\n",
    "\n",
    "            numbers_list=numbers_list+numbers_list2\n",
    "            writer.writerows([numbers_list])\n",
    "                "
   ]
  },
  {
   "cell_type": "code",
   "execution_count": 5,
   "id": "8ae564f1-17e3-487a-be87-45254054fc30",
   "metadata": {},
   "outputs": [
    {
     "data": {
      "text/plain": [
       "[<tr>\n",
       " <td>2773</td>\n",
       " <td class=\"sum-p1\">2008-11-12</td>\n",
       " <td class=\"sum-p1\">1,3,10,29,34,39                        </td>\n",
       " <td class=\"sum-p1\">11,18                        </td>\n",
       " <td class=\"sum-p2 col-hide\"></td>\n",
       " <td class=\"sum-p2 col-hide\">116</td>\n",
       " <td class=\"sum-p2 col-hide\">19</td>\n",
       " <td class=\"sum-p2 col-hide\">4 / 2                        </td>\n",
       " <td class=\"sum-p3 col-hide\">3</td>\n",
       " <td class=\"sum-p3 col-hide\">0</td>\n",
       " <td class=\"sum-p3 col-hide\">1</td>\n",
       " <td class=\"sum-p3 col-hide\">2</td>\n",
       " <td class=\"sum-p3 col-hide\">0</td>\n",
       " </tr>,\n",
       " <tr>\n",
       " <td>2772</td>\n",
       " <td class=\"sum-p1\">2008-11-10</td>\n",
       " <td class=\"sum-p1\">6,15,18,24,26,44                        </td>\n",
       " <td class=\"sum-p1\">2,27                        </td>\n",
       " <td class=\"sum-p2 col-hide\">24</td>\n",
       " <td class=\"sum-p2 col-hide\">133</td>\n",
       " <td class=\"sum-p2 col-hide\">22</td>\n",
       " <td class=\"sum-p2 col-hide\">1 / 5                        </td>\n",
       " <td class=\"sum-p3 col-hide\">1</td>\n",
       " <td class=\"sum-p3 col-hide\">2</td>\n",
       " <td class=\"sum-p3 col-hide\">2</td>\n",
       " <td class=\"sum-p3 col-hide\">0</td>\n",
       " <td class=\"sum-p3 col-hide\">1</td>\n",
       " </tr>,\n",
       " <tr>\n",
       " <td>2771</td>\n",
       " <td class=\"sum-p1\">2008-11-05</td>\n",
       " <td class=\"sum-p1\">10,11,24,32,35,36                        </td>\n",
       " <td class=\"sum-p1\">15,29                        </td>\n",
       " <td class=\"sum-p2 col-hide\"></td>\n",
       " <td class=\"sum-p2 col-hide\">148</td>\n",
       " <td class=\"sum-p2 col-hide\">25</td>\n",
       " <td class=\"sum-p2 col-hide\">2 / 4                        </td>\n",
       " <td class=\"sum-p3 col-hide\">1</td>\n",
       " <td class=\"sum-p3 col-hide\">1</td>\n",
       " <td class=\"sum-p3 col-hide\">1</td>\n",
       " <td class=\"sum-p3 col-hide\">3</td>\n",
       " <td class=\"sum-p3 col-hide\">0</td>\n",
       " </tr>,\n",
       " <tr>\n",
       " <td>2770</td>\n",
       " <td class=\"sum-p1\">2008-11-03</td>\n",
       " <td class=\"sum-p1\">4,6,9,16,17,23                        </td>\n",
       " <td class=\"sum-p1\">18,29                        </td>\n",
       " <td class=\"sum-p2 col-hide\"></td>\n",
       " <td class=\"sum-p2 col-hide\">75</td>\n",
       " <td class=\"sum-p2 col-hide\">13</td>\n",
       " <td class=\"sum-p2 col-hide\">3 / 3                        </td>\n",
       " <td class=\"sum-p3 col-hide\">3</td>\n",
       " <td class=\"sum-p3 col-hide\">2</td>\n",
       " <td class=\"sum-p3 col-hide\">1</td>\n",
       " <td class=\"sum-p3 col-hide\">0</td>\n",
       " <td class=\"sum-p3 col-hide\">0</td>\n",
       " </tr>,\n",
       " <tr>\n",
       " <td>2769</td>\n",
       " <td class=\"sum-p1\">2008-10-29</td>\n",
       " <td class=\"sum-p1\">10,27,30,34,43,45                        </td>\n",
       " <td class=\"sum-p1\">8,17                        </td>\n",
       " <td class=\"sum-p2 col-hide\">27,30</td>\n",
       " <td class=\"sum-p2 col-hide\">189</td>\n",
       " <td class=\"sum-p2 col-hide\">32</td>\n",
       " <td class=\"sum-p2 col-hide\">3 / 3                        </td>\n",
       " <td class=\"sum-p3 col-hide\">1</td>\n",
       " <td class=\"sum-p3 col-hide\">0</td>\n",
       " <td class=\"sum-p3 col-hide\">2</td>\n",
       " <td class=\"sum-p3 col-hide\">1</td>\n",
       " <td class=\"sum-p3 col-hide\">2</td>\n",
       " </tr>,\n",
       " <tr>\n",
       " <td>2768</td>\n",
       " <td class=\"sum-p1\">2008-10-27</td>\n",
       " <td class=\"sum-p1\">1,3,19,27,29,30                        </td>\n",
       " <td class=\"sum-p1\">23,33                        </td>\n",
       " <td class=\"sum-p2 col-hide\">27</td>\n",
       " <td class=\"sum-p2 col-hide\">109</td>\n",
       " <td class=\"sum-p2 col-hide\">18</td>\n",
       " <td class=\"sum-p2 col-hide\">5 / 1                        </td>\n",
       " <td class=\"sum-p3 col-hide\">2</td>\n",
       " <td class=\"sum-p3 col-hide\">1</td>\n",
       " <td class=\"sum-p3 col-hide\">3</td>\n",
       " <td class=\"sum-p3 col-hide\">0</td>\n",
       " <td class=\"sum-p3 col-hide\">0</td>\n",
       " </tr>,\n",
       " <tr>\n",
       " <td>2767</td>\n",
       " <td class=\"sum-p1\">2008-10-22</td>\n",
       " <td class=\"sum-p1\">6,15,16,24,27,42                        </td>\n",
       " <td class=\"sum-p1\">2,17                        </td>\n",
       " <td class=\"sum-p2 col-hide\"></td>\n",
       " <td class=\"sum-p2 col-hide\">130</td>\n",
       " <td class=\"sum-p2 col-hide\">22</td>\n",
       " <td class=\"sum-p2 col-hide\">2 / 4                        </td>\n",
       " <td class=\"sum-p3 col-hide\">1</td>\n",
       " <td class=\"sum-p3 col-hide\">2</td>\n",
       " <td class=\"sum-p3 col-hide\">2</td>\n",
       " <td class=\"sum-p3 col-hide\">0</td>\n",
       " <td class=\"sum-p3 col-hide\">1</td>\n",
       " </tr>,\n",
       " <tr>\n",
       " <td>2766</td>\n",
       " <td class=\"sum-p1\">2008-10-20</td>\n",
       " <td class=\"sum-p1\">12,18,23,28,34,38                        </td>\n",
       " <td class=\"sum-p1\">2,8                        </td>\n",
       " <td class=\"sum-p2 col-hide\">28</td>\n",
       " <td class=\"sum-p2 col-hide\">153</td>\n",
       " <td class=\"sum-p2 col-hide\">26</td>\n",
       " <td class=\"sum-p2 col-hide\">1 / 5                        </td>\n",
       " <td class=\"sum-p3 col-hide\">0</td>\n",
       " <td class=\"sum-p3 col-hide\">2</td>\n",
       " <td class=\"sum-p3 col-hide\">2</td>\n",
       " <td class=\"sum-p3 col-hide\">2</td>\n",
       " <td class=\"sum-p3 col-hide\">0</td>\n",
       " </tr>,\n",
       " <tr>\n",
       " <td>2765</td>\n",
       " <td class=\"sum-p1\">2008-10-15</td>\n",
       " <td class=\"sum-p1\">13,16,21,27,28,43                        </td>\n",
       " <td class=\"sum-p1\">26,38                        </td>\n",
       " <td class=\"sum-p2 col-hide\">27</td>\n",
       " <td class=\"sum-p2 col-hide\">148</td>\n",
       " <td class=\"sum-p2 col-hide\">25</td>\n",
       " <td class=\"sum-p2 col-hide\">4 / 2                        </td>\n",
       " <td class=\"sum-p3 col-hide\">0</td>\n",
       " <td class=\"sum-p3 col-hide\">2</td>\n",
       " <td class=\"sum-p3 col-hide\">3</td>\n",
       " <td class=\"sum-p3 col-hide\">0</td>\n",
       " <td class=\"sum-p3 col-hide\">1</td>\n",
       " </tr>,\n",
       " <tr>\n",
       " <td>2764</td>\n",
       " <td class=\"sum-p1\">2008-10-13</td>\n",
       " <td class=\"sum-p1\">2,7,26,27,33,39                        </td>\n",
       " <td class=\"sum-p1\">19,40                        </td>\n",
       " <td class=\"sum-p2 col-hide\"></td>\n",
       " <td class=\"sum-p2 col-hide\">134</td>\n",
       " <td class=\"sum-p2 col-hide\">22</td>\n",
       " <td class=\"sum-p2 col-hide\">4 / 2                        </td>\n",
       " <td class=\"sum-p3 col-hide\">2</td>\n",
       " <td class=\"sum-p3 col-hide\">0</td>\n",
       " <td class=\"sum-p3 col-hide\">2</td>\n",
       " <td class=\"sum-p3 col-hide\">2</td>\n",
       " <td class=\"sum-p3 col-hide\">0</td>\n",
       " </tr>]"
      ]
     },
     "execution_count": 5,
     "metadata": {},
     "output_type": "execute_result"
    }
   ],
   "source": [
    "rows"
   ]
  },
  {
   "cell_type": "code",
   "execution_count": 6,
   "id": "c3564b73-7563-4d42-a17a-0f139f4dd1b5",
   "metadata": {},
   "outputs": [],
   "source": [
    "if response.status_code == 200:\n",
    "    # Access the HTML content of the response\n",
    "    html_code = response.text\n",
    "    \n",
    "    # Now you can use BeautifulSoup or other parsing libraries to work with the HTML\n",
    "else:\n",
    "    print(f\"Request failed with status code: {response.status_code}\")"
   ]
  },
  {
   "cell_type": "code",
   "execution_count": 7,
   "id": "b397aa08-ec84-4e61-93e5-b5ebe417cfb3",
   "metadata": {},
   "outputs": [],
   "source": [
    "# Parse the HTML using BeautifulSoup\n",
    "soup = BeautifulSoup(html_code, 'html.parser')\n",
    "\n",
    "# Find all rows containing lotto results\n",
    "rows = soup.select('#summary-table tbody tr')\n",
    "\n",
    "# Loop through each row and extract the relevant data\n",
    "for row in rows:\n",
    "    draw_number = row.find('td').text\n",
    "    date = row.find('td', class_='sum-p1').text\n",
    "    winning_numbers = row.find('td', class_='sum-p1').find_next_sibling().text\n",
    "    supplementary_numbers = row.find('td', class_='sum-p1').find_next_sibling().find_next_sibling().text\n",
    "\n",
    "    print(f\"Draw: {draw_number}\")\n",
    "    print(f\"Date: {date}\")\n",
    "    print(f\"Winning Numbers: {winning_numbers}\")\n",
    "    print(f\"Supplementary Numbers: {supplementary_numbers}\")\n",
    "    print()\n",
    "    "
   ]
  },
  {
   "cell_type": "code",
   "execution_count": 7,
   "id": "32e2f46e-e7a3-4aa4-9f21-0eb872f6af63",
   "metadata": {},
   "outputs": [
    {
     "name": "stdout",
     "output_type": "stream",
     "text": [
      "Draw: 2773\n",
      "Date: 2008-11-12\n",
      "Winning Numbers: 1,3,10,29,34,39                        \n",
      "Supplementary Numbers: 11,18                        \n",
      "\n",
      "Draw: 2772\n",
      "Date: 2008-11-10\n",
      "Winning Numbers: 6,15,18,24,26,44                        \n",
      "Supplementary Numbers: 2,27                        \n",
      "\n",
      "Draw: 2771\n",
      "Date: 2008-11-05\n",
      "Winning Numbers: 10,11,24,32,35,36                        \n",
      "Supplementary Numbers: 15,29                        \n",
      "\n",
      "Draw: 2770\n",
      "Date: 2008-11-03\n",
      "Winning Numbers: 4,6,9,16,17,23                        \n",
      "Supplementary Numbers: 18,29                        \n",
      "\n",
      "Draw: 2769\n",
      "Date: 2008-10-29\n",
      "Winning Numbers: 10,27,30,34,43,45                        \n",
      "Supplementary Numbers: 8,17                        \n",
      "\n",
      "Draw: 2768\n",
      "Date: 2008-10-27\n",
      "Winning Numbers: 1,3,19,27,29,30                        \n",
      "Supplementary Numbers: 23,33                        \n",
      "\n",
      "Draw: 2767\n",
      "Date: 2008-10-22\n",
      "Winning Numbers: 6,15,16,24,27,42                        \n",
      "Supplementary Numbers: 2,17                        \n",
      "\n",
      "Draw: 2766\n",
      "Date: 2008-10-20\n",
      "Winning Numbers: 12,18,23,28,34,38                        \n",
      "Supplementary Numbers: 2,8                        \n",
      "\n",
      "Draw: 2765\n",
      "Date: 2008-10-15\n",
      "Winning Numbers: 13,16,21,27,28,43                        \n",
      "Supplementary Numbers: 26,38                        \n",
      "\n",
      "Draw: 2764\n",
      "Date: 2008-10-13\n",
      "Winning Numbers: 2,7,26,27,33,39                        \n",
      "Supplementary Numbers: 19,40                        \n",
      "\n"
     ]
    }
   ],
   "source": [
    "# ##uncomment for text file output\n",
    "#     with open('output.txt', 'w') as file:\n",
    "#         # Write numbers to the file\n",
    "#         numbers = [1, 2, 3, 4, 5]\n",
    "#         for number in :\n",
    "#             file.write(str(number) + '\\n')  # Convert number to string and add a newline"
   ]
  },
  {
   "cell_type": "code",
   "execution_count": 8,
   "id": "6fc1a78c-e28a-43c6-839d-3d41d4ded3b9",
   "metadata": {},
   "outputs": [
    {
     "name": "stdout",
     "output_type": "stream",
     "text": [
      "2,7,26,27,33,39                        ,19,40                        \n"
     ]
    }
   ],
   "source": [
    "print(f\"{winning_numbers},{supplementary_numbers}\")"
   ]
  },
  {
   "cell_type": "code",
   "execution_count": 9,
   "id": "95670275-c5f5-468a-80b5-5a7628eb275b",
   "metadata": {},
   "outputs": [
    {
     "name": "stdout",
     "output_type": "stream",
     "text": [
      "19\n",
      "40\n"
     ]
    }
   ],
   "source": [
    "numbers_list = [int(num_str) for num_str in (winning_numbers).split(',')]\n",
    "numbers_list2 = [int(num_str) for num_str in (supplementary_numbers).split(',')]\n",
    "\n",
    "# Print the individual numbers\n",
    "for num in numbers_list2:\n",
    "    print(num)"
   ]
  },
  {
   "cell_type": "code",
   "execution_count": 10,
   "id": "72060daf-3544-4321-97d8-7eb61b9f7894",
   "metadata": {},
   "outputs": [
    {
     "data": {
      "text/plain": [
       "[2, 7, 26, 27, 33, 39, 19, 40]"
      ]
     },
     "execution_count": 10,
     "metadata": {},
     "output_type": "execute_result"
    }
   ],
   "source": [
    "numbers_list = [int(num_str) for num_str in (winning_numbers).split(',')]\n",
    "numbers_list2 = [int(num_str) for num_str in (supplementary_numbers).split(',')]\n",
    "\n",
    "numbers_list+numbers_list2\n"
   ]
  },
  {
   "cell_type": "code",
   "execution_count": null,
   "id": "7e50b556-b47b-41fe-a33f-a21e6e8b68c7",
   "metadata": {},
   "outputs": [],
   "source": []
  }
 ],
 "metadata": {
  "kernelspec": {
   "display_name": "Python 3 (ipykernel)",
   "language": "python",
   "name": "python3"
  },
  "language_info": {
   "codemirror_mode": {
    "name": "ipython",
    "version": 3
   },
   "file_extension": ".py",
   "mimetype": "text/x-python",
   "name": "python",
   "nbconvert_exporter": "python",
   "pygments_lexer": "ipython3",
   "version": "3.9.6"
  }
 },
 "nbformat": 4,
 "nbformat_minor": 5
}
